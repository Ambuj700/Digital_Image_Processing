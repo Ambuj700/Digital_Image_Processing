{
 "cells": [
  {
   "cell_type": "markdown",
   "metadata": {},
   "source": [
    "# Histogram Specification\n",
    "### Created By : Pratik Adle (BT17ECE034)"
   ]
  },
  {
   "cell_type": "code",
   "execution_count": 18,
   "metadata": {
    "scrolled": true
   },
   "outputs": [
    {
     "name": "stdout",
     "output_type": "stream",
     "text": [
      "Image Matrix is :\n",
      "[[1 3 5]\n",
      " [4 4 3]\n",
      " [5 2 2]]\n",
      "\n",
      "Target Matrix is : [0 0 0 0 2 2 4 1]\n",
      "\n",
      "Gray Levels   :  [0 1 2 3 4 5 6 7]\n",
      "No. of Pixels :  [0 1 2 2 2 2 0 0]\n",
      "\n",
      "CDF : [0 1 3 5 7 9 9 9]\n",
      "\n",
      "Equalized Value for Image : [0 1 2 4 5 7 7 7]\n"
     ]
    }
   ],
   "source": [
    "import numpy as np\n",
    "\n",
    "# Input Image Matrix - 3x3 Matrix\n",
    "image_matrix = np.array([[1,3,5], [4,4,3], [5,2,2]])\n",
    "print('Image Matrix is :')\n",
    "print(image_matrix)\n",
    "\n",
    "# Target Matrix \n",
    "target_matrix = np.array([0,0,0,0,2,2,4,1])\n",
    "print('\\nTarget Matrix is :',target_matrix)\n",
    "\n",
    "# Gray Level Matrix\n",
    "gray_level  = np.array([0,1,2,3,4,5,6,7])\n",
    "\n",
    "# Counting Number of Pixels for each Gray Level\n",
    "no_of_pixels = np.array([0,0,0,0,0,0,0,0])\n",
    "\n",
    "for i in range(8):\n",
    "    no_of_pixels[i] = (image_matrix == i).sum()\n",
    "\n",
    "print('\\nGray Levels   : ',gray_level)\n",
    "print('No. of Pixels : ',no_of_pixels)\n",
    "\n",
    "\n",
    "\n",
    "# Calculatig CDF and Equalized Value for Image Matrix\n",
    "cdf = np.array([0,0,0,0,0,0,0,0])\n",
    "equalized_value = np.array([0,0,0,0,0,0,0,0])\n",
    "\n",
    "# CDF calculation\n",
    "for j in range(8):\n",
    "    cdf[j] = no_of_pixels[j] + cdf[j-1]\n",
    "    \n",
    "print('\\nCDF :',cdf)\n",
    "\n",
    "# Total\n",
    "total = cdf[7]\n",
    "\n",
    "# Equalized Value Calculation \n",
    "# Equalized Value = (CDF/Total)*(L-1)\n",
    "# Here L=8 \n",
    "for k in range(8):\n",
    "    equalized_value[k] = round((cdf[k]/total)*7)\n",
    "print('\\nEqualized Value for Image :',equalized_value)"
   ]
  },
  {
   "cell_type": "code",
   "execution_count": 26,
   "metadata": {},
   "outputs": [
    {
     "name": "stdout",
     "output_type": "stream",
     "text": [
      "\n",
      "              Gray Levels :  [0 1 2 3 4 5 6 7]\n",
      "            No. of Pixels :  [0 1 2 2 2 2 0 0]\n",
      "            CDF for Image :  [0 1 3 5 7 9 9 9]\n",
      "Equalized Value for Image :  [0 1 2 4 5 7 7 7]\n"
     ]
    }
   ],
   "source": [
    "# Writing all input parameters together\n",
    "print('\\n              Gray Levels : ',gray_level)\n",
    "print('            No. of Pixels : ',no_of_pixels)\n",
    "print('            CDF for Image : ',cdf)\n",
    "print('Equalized Value for Image : ',equalized_value)"
   ]
  },
  {
   "cell_type": "code",
   "execution_count": 31,
   "metadata": {},
   "outputs": [
    {
     "name": "stdout",
     "output_type": "stream",
     "text": [
      "               Gray Levels :  [0 1 2 3 4 5 6 7]\n",
      "     CDF for Target Matrix :  [0 0 0 0 2 4 8 9]\n",
      "Equalized Value for Target :  [0 0 0 0 2 3 6 7]\n"
     ]
    }
   ],
   "source": [
    "# For Target Matrix\n",
    "target_value_pixel = np.array([0,0,0,0,0,0,0,0])\n",
    "target_cdf = np.array([0,0,0,0,0,0,0,0])\n",
    "target_equalized_value = np.array([0,0,0,0,0,0,0,0])\n",
    "\n",
    "print('               Gray Levels : ',gray_level)\n",
    "\n",
    "# Calculating CDF for Target Matrix\n",
    "for l in range(8):\n",
    "    target_cdf[l] = target_matrix[l] + target_cdf[l-1]\n",
    "print('     CDF for Target Matrix : ',target_cdf)\n",
    "\n",
    "# Calculating Equalized Value for Target Matrix\n",
    "for m in range(8):\n",
    "    target_equalized_value[m] = round((target_cdf[m]/total)*7)\n",
    "print('Equalized Value for Target : ',target_equalized_value)"
   ]
  },
  {
   "cell_type": "code",
   "execution_count": 45,
   "metadata": {},
   "outputs": [
    {
     "name": "stdout",
     "output_type": "stream",
     "text": [
      "                   Gray Level : [0 1 2 3 4 5 6 7]\n",
      " Input Histogram Equalization : [0 1 2 4 5 7 7 7]\n",
      "Target Histogram Equalization : [0 0 0 0 2 3 6 7]\n"
     ]
    }
   ],
   "source": [
    "# Writing Gray Level, Image and Target Equalized Values together\n",
    "\n",
    "print('                   Gray Level :',gray_level)\n",
    "print(' Input Histogram Equalization :', equalized_value)\n",
    "print('Target Histogram Equalization :', target_equalized_value)"
   ]
  },
  {
   "cell_type": "code",
   "execution_count": 52,
   "metadata": {},
   "outputs": [
    {
     "name": "stdout",
     "output_type": "stream",
     "text": [
      "Output :\n",
      "Map : [0 4 4 6 6 7 7 7]\n"
     ]
    }
   ],
   "source": [
    "# Output\n",
    "print('Output :')\n",
    "\n",
    "# Mapping \n",
    "mapping_matrix = []\n",
    "for n in equalized_value:\n",
    "    gray_eq = np.where(target_equalized_value >= n)\n",
    "    mapping_matrix.append(gray_eq[0][0])\n",
    "\n",
    "# Print Map Matrix \n",
    "mapping_matrix = np.asarray(mapping_matrix)\n",
    "print('Map :',mapping_matrix)    "
   ]
  },
  {
   "cell_type": "code",
   "execution_count": 55,
   "metadata": {},
   "outputs": [
    {
     "name": "stdout",
     "output_type": "stream",
     "text": [
      "                   Gray Level : [0 1 2 3 4 5 6 7]\n",
      " Input Histogram Equalization : [0 1 2 4 5 7 7 7]\n",
      "Target Histogram Equalization : [0 0 0 0 2 3 6 7]\n",
      "                          Map : [0 4 4 6 6 7 7 7]\n"
     ]
    }
   ],
   "source": [
    "# Writing all parameters together\n",
    "print('                   Gray Level :',gray_level)\n",
    "print(' Input Histogram Equalization :', equalized_value)\n",
    "print('Target Histogram Equalization :', target_equalized_value)\n",
    "print('                          Map :',mapping_matrix)"
   ]
  }
 ],
 "metadata": {
  "kernelspec": {
   "display_name": "Python 3",
   "language": "python",
   "name": "python3"
  },
  "language_info": {
   "codemirror_mode": {
    "name": "ipython",
    "version": 3
   },
   "file_extension": ".py",
   "mimetype": "text/x-python",
   "name": "python",
   "nbconvert_exporter": "python",
   "pygments_lexer": "ipython3",
   "version": "3.7.4"
  }
 },
 "nbformat": 4,
 "nbformat_minor": 2
}
