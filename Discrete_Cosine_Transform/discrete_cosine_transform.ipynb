{
 "cells": [
  {
   "cell_type": "markdown",
   "metadata": {},
   "source": [
    "# Discrete Cosine Transform (DCT)\n",
    "\n",
    "### Created By : Pratik Adle (BT17ECE034)"
   ]
  },
  {
   "cell_type": "code",
   "execution_count": 8,
   "metadata": {},
   "outputs": [],
   "source": [
    "# Importing Required Libraries\n",
    "import numpy as np\n",
    "import math \n",
    "\n",
    "# Defining a function to compute Discrete Cosine Transform (DCT) of a Matrix\n",
    "def dct(input_matrix):\n",
    "    \n",
    "    # Length of Input Matrix\n",
    "    n = len(input_matrix)\n",
    "\n",
    "    # Output Matrix\n",
    "    output_matrix = np.zeros([n,n])\n",
    "    \n",
    "    # Applying DCT algorithm\n",
    "    for i in range(n):\n",
    "        for j in range(n):\n",
    "            if(i==0):\n",
    "                output_matrix[i][j]=np.power(1/input_matrix[i][j],0.5)\n",
    "            else:\n",
    "                output_matrix[i][j]=np.power(2/n,0.5)*np.cos(((2*i+1)*math.pi*j)/(2*n))\n",
    "                \n",
    "    # Printing Output Matrix\n",
    "    print('\\nOutput Matrix :\\n',output_matrix)            \n",
    "    "
   ]
  },
  {
   "cell_type": "code",
   "execution_count": 10,
   "metadata": {},
   "outputs": [
    {
     "name": "stdout",
     "output_type": "stream",
     "text": [
      "Enter Number of rows and column : 4\n",
      "\n",
      "Input Matrix :\n",
      " [[65 92 76 91]\n",
      " [47 62 29 21]\n",
      " [46 10 83 74]\n",
      " [47 66 39 12]]\n",
      "\n",
      "Output Matrix :\n",
      " [[ 0.12403473  0.10425721  0.11470787  0.10482848]\n",
      " [ 0.70710678  0.27059805 -0.5        -0.65328148]\n",
      " [ 0.70710678 -0.27059805 -0.5         0.65328148]\n",
      " [ 0.70710678 -0.65328148  0.5        -0.27059805]]\n"
     ]
    }
   ],
   "source": [
    "# No. of rows and columns of input matrix\n",
    "N = int(input(\"Enter Number of rows and column : \"))\n",
    "\n",
    "# Randomly generating input matrix of size NxN\n",
    "input_matrix = np.uint8(np.random.rand(N,N)*100)   \n",
    "\n",
    "# Printing Input Matrix\n",
    "print('\\nInput Matrix :\\n',input_matrix)\n",
    "\n",
    "# Computing DCT of input matrix by calling dct(input_matrix) function\n",
    "dct(input_matrix)"
   ]
  },
  {
   "cell_type": "code",
   "execution_count": 11,
   "metadata": {},
   "outputs": [
    {
     "name": "stdout",
     "output_type": "stream",
     "text": [
      "Enter Number of rows and column : 8\n",
      "\n",
      "Input Matrix :\n",
      " [[91 29 51 64 21 89 23 23]\n",
      " [13 17 13 56 15 61  2 32]\n",
      " [15 50 75 53 13 15 12 96]\n",
      " [23 43 93 54 23 36 94 79]\n",
      " [80 71 79 89  5  9 16 57]\n",
      " [38 71 92 63  4 54  7 94]\n",
      " [ 1 34 47 80 34 49 89 19]\n",
      " [74 99 43 85  6 95 92 48]]\n",
      "\n",
      "Output Matrix :\n",
      " [[ 0.10482848  0.18569534  0.14002801  0.125       0.21821789  0.10599979\n",
      "   0.20851441  0.20851441]\n",
      " [ 0.5         0.41573481  0.19134172 -0.09754516 -0.35355339 -0.49039264\n",
      "  -0.46193977 -0.27778512]\n",
      " [ 0.5         0.27778512 -0.19134172 -0.49039264 -0.35355339  0.09754516\n",
      "   0.46193977  0.41573481]\n",
      " [ 0.5         0.09754516 -0.46193977 -0.27778512  0.35355339  0.41573481\n",
      "  -0.19134172 -0.49039264]\n",
      " [ 0.5        -0.09754516 -0.46193977  0.27778512  0.35355339 -0.41573481\n",
      "  -0.19134172  0.49039264]\n",
      " [ 0.5        -0.27778512 -0.19134172  0.49039264 -0.35355339 -0.09754516\n",
      "   0.46193977 -0.41573481]\n",
      " [ 0.5        -0.41573481  0.19134172  0.09754516 -0.35355339  0.49039264\n",
      "  -0.46193977  0.27778512]\n",
      " [ 0.5        -0.49039264  0.46193977 -0.41573481  0.35355339 -0.27778512\n",
      "   0.19134172 -0.09754516]]\n"
     ]
    }
   ],
   "source": [
    "# No. of rows and columns of input matrix\n",
    "N = int(input(\"Enter Number of rows and column : \"))\n",
    "\n",
    "# Randomly generating input matrix of size NxN\n",
    "input_matrix = np.uint8(np.random.rand(N,N)*100)   \n",
    "\n",
    "# Printing Input Matrix\n",
    "print('\\nInput Matrix :\\n',input_matrix)\n",
    "\n",
    "# Computing DCT of input matrix by calling dct(input_matrix) function\n",
    "dct(input_matrix)"
   ]
  }
 ],
 "metadata": {
  "kernelspec": {
   "display_name": "Python 3",
   "language": "python",
   "name": "python3"
  },
  "language_info": {
   "codemirror_mode": {
    "name": "ipython",
    "version": 3
   },
   "file_extension": ".py",
   "mimetype": "text/x-python",
   "name": "python",
   "nbconvert_exporter": "python",
   "pygments_lexer": "ipython3",
   "version": "3.7.1"
  }
 },
 "nbformat": 4,
 "nbformat_minor": 2
}
